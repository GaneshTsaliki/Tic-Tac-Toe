{
 "cells": [
  {
   "cell_type": "code",
   "execution_count": 1,
   "id": "549e590e",
   "metadata": {},
   "outputs": [],
   "source": [
    "# no. of X's - no. of O's Rule\n",
    "def Rule1(X_vals, O_vals):\n",
    "    if(X_vals - O_vals == 0):\n",
    "        print(\"X has to play\")\n",
    "    else:\n",
    "        print(\"O has to play\")"
   ]
  },
  {
   "cell_type": "code",
   "execution_count": 2,
   "id": "cc1ccbda",
   "metadata": {},
   "outputs": [],
   "source": [
    "# Input given by each player, considering '0' as input from the counter part player\n",
    "def Input_Player(tape):\n",
    "    TAPE = \"\"\n",
    "    for i in range(0, len(tape)):\n",
    "        if(int(tape[i])!=0):\n",
    "            TAPE = TAPE + tape[i]\n",
    "    return TAPE"
   ]
  },
  {
   "cell_type": "code",
   "execution_count": 3,
   "id": "fd03ba0f",
   "metadata": {},
   "outputs": [],
   "source": [
    "# Combininig the individual Tapes of Players 1 and 2\n",
    "def Inputtape(tape1, tape2):\n",
    "    if(len(tape1) < len(tape2)):\n",
    "        tmp = tape1\n",
    "        tape1 = tape2\n",
    "        tape2 = tmp\n",
    "    idx = 0\n",
    "    tape = \"\"\n",
    "    for i in range(len(tape1)):\n",
    "        tape = tape + tape1[i]\n",
    "        idx = idx + 1\n",
    "        if(idx <= len(tape2)):\n",
    "            tape = tape + tape2[i]\n",
    "    return tape    "
   ]
  },
  {
   "cell_type": "code",
   "execution_count": 4,
   "id": "833468cf",
   "metadata": {},
   "outputs": [],
   "source": [
    "# Tuple datatype is flattened out and then sorted for obtaining sequences \n",
    "def flatten_tuple(data):\n",
    "    DATA = \"\"\n",
    "    data1 = []\n",
    "    for i in range(len(data)):\n",
    "        data1.append(data[i])\n",
    "    data1.sort()\n",
    "    for i in range(len(data1)):\n",
    "        DATA = DATA + str(data1[i])\n",
    "    return DATA"
   ]
  },
  {
   "cell_type": "code",
   "execution_count": 5,
   "id": "02c31a57",
   "metadata": {},
   "outputs": [],
   "source": [
    "# Function to find winner based on the presence of the substring\n",
    "def WINNER(x_pos, o_pos, tape3):\n",
    "    flag = -1\n",
    "    for i in range(len(x_pos)):\n",
    "        if x_pos[i] in tape3:\n",
    "            flag = 0\n",
    "    for i in range(len(o_pos)):\n",
    "        if o_pos[i] in tape3:\n",
    "            flag = 1\n",
    "    if flag == 0:\n",
    "        print(\"X is the winner!\")\n",
    "    elif flag == 1:\n",
    "        print(\"O is the winner!\")\n",
    "    else:\n",
    "        print(\"Match Draw\")"
   ]
  },
  {
   "cell_type": "code",
   "execution_count": 6,
   "id": "48738c4b",
   "metadata": {},
   "outputs": [],
   "source": [
    "# Predefined Game: X starts first \n",
    "tape1_x = \"504030109\"\n",
    "tape2_o = \"2060708\""
   ]
  },
  {
   "cell_type": "code",
   "execution_count": 7,
   "id": "72ee5761",
   "metadata": {},
   "outputs": [
    {
     "data": {
      "text/plain": [
       "'524637189'"
      ]
     },
     "execution_count": 7,
     "metadata": {},
     "output_type": "execute_result"
    }
   ],
   "source": [
    "# Obtaining the tape3 - Combining Tapes 1 and 2\n",
    "tape1_X = Input_Player(tape1_x)\n",
    "tape2_O = Input_Player(tape2_o)\n",
    "tape_Input = Inputtape(tape1_X, tape2_O)  \n",
    "tape_Input"
   ]
  },
  {
   "cell_type": "code",
   "execution_count": 8,
   "id": "9212bc34",
   "metadata": {},
   "outputs": [],
   "source": [
    "# Defining Winning sequence Tape -> 'T' represents Next Row|Column|Diagonal\n",
    "tape4_row = \"123T456T789\"\n",
    "tape4_col = \"147T258T369\"\n",
    "tape4_diag = \"159T357\"\n",
    "tape4 = tape4_row + tape4_col + tape4_diag"
   ]
  },
  {
   "cell_type": "code",
   "execution_count": 9,
   "id": "3f6181c9",
   "metadata": {},
   "outputs": [],
   "source": [
    "# Updating Game Indices\n",
    "game = ['#','#','#','#','#','#','#','#','#']\n",
    "for i in range(len(tape_Input)):\n",
    "    if(i%2 == 1):\n",
    "        game[int(tape_Input[i])-1] = 'O'\n",
    "    else:\n",
    "        game[int(tape_Input[i])-1] = 'X'\n",
    "# Define In Matrix Format For Visualization\n",
    "GAME = [[],[],[]]\n",
    "GAME[0] = game[0:3]\n",
    "GAME[1] = game[3:6]\n",
    "GAME[2] = game[6:9]"
   ]
  },
  {
   "cell_type": "code",
   "execution_count": 10,
   "id": "5312936b",
   "metadata": {},
   "outputs": [
    {
     "data": {
      "text/plain": [
       "['X', 'O', 'X', 'X', 'X', 'O', 'O', 'O', 'X']"
      ]
     },
     "execution_count": 10,
     "metadata": {},
     "output_type": "execute_result"
    }
   ],
   "source": [
    "# Updated Indexed Values\n",
    "game"
   ]
  },
  {
   "cell_type": "code",
   "execution_count": 11,
   "id": "93a32228",
   "metadata": {},
   "outputs": [
    {
     "name": "stdout",
     "output_type": "stream",
     "text": [
      "['X', 'O', 'X']\n",
      "['X', 'X', 'O']\n",
      "['O', 'O', 'X']\n"
     ]
    }
   ],
   "source": [
    "# Visualizing in Matrix form\n",
    "print(GAME[0])\n",
    "print(GAME[1])\n",
    "print(GAME[2])"
   ]
  },
  {
   "cell_type": "code",
   "execution_count": 12,
   "id": "90697be0",
   "metadata": {},
   "outputs": [],
   "source": [
    "# Obtaining all positions for X's and O's respectively\n",
    "pos_X = []\n",
    "for i in range(0, len(tape1_X)):\n",
    "    pos_X.append(int(tape1_X[i]))\n",
    "pos_O = []\n",
    "for i in range(0, len(tape2_O)):\n",
    "    pos_O.append(int(tape2_O[i]))"
   ]
  },
  {
   "cell_type": "code",
   "execution_count": 13,
   "id": "eb972e5b",
   "metadata": {},
   "outputs": [
    {
     "data": {
      "text/plain": [
       "[5, 4, 3, 1, 9]"
      ]
     },
     "execution_count": 13,
     "metadata": {},
     "output_type": "execute_result"
    }
   ],
   "source": [
    "# X values locations:\n",
    "pos_X"
   ]
  },
  {
   "cell_type": "code",
   "execution_count": 14,
   "id": "5f5acf95",
   "metadata": {},
   "outputs": [
    {
     "data": {
      "text/plain": [
       "[2, 6, 7, 8]"
      ]
     },
     "execution_count": 14,
     "metadata": {},
     "output_type": "execute_result"
    }
   ],
   "source": [
    "# O values locations:\n",
    "pos_O"
   ]
  },
  {
   "cell_type": "code",
   "execution_count": 15,
   "id": "2ab52042",
   "metadata": {},
   "outputs": [
    {
     "name": "stdout",
     "output_type": "stream",
     "text": [
      " All Permutations for X_POSITIONS:\n",
      "['345', '145', '459', '135', '359', '159', '134', '349', '149', '139']\n",
      " All Permutations for O_POSITIONS:\n",
      "['267', '268', '278', '678']\n"
     ]
    }
   ],
   "source": [
    "from itertools import combinations\n",
    "\n",
    "# Obtaining all possible triplets from the positions inorder to check in the given Winning Sequence Tape\n",
    "\n",
    "# X - Part\n",
    "X_perm = list(combinations(pos_X, 3))\n",
    "X_perm_pos = []\n",
    "for i in range(len(X_perm)):\n",
    "    X_perm_pos.append(flatten_tuple(X_perm[i]))\n",
    "print(\" All Permutations for X_POSITIONS:\")\n",
    "print(X_perm_pos)\n",
    "\n",
    "# O - Part\n",
    "O_perm = list(combinations(pos_O, 3))\n",
    "O_perm_pos = []\n",
    "for i in range(len(O_perm)):\n",
    "    O_perm_pos.append(flatten_tuple(O_perm[i]))\n",
    "print(\" All Permutations for O_POSITIONS:\")\n",
    "print(O_perm_pos)"
   ]
  },
  {
   "cell_type": "code",
   "execution_count": 16,
   "id": "e591e69b",
   "metadata": {},
   "outputs": [
    {
     "name": "stdout",
     "output_type": "stream",
     "text": [
      "X is the winner!\n"
     ]
    }
   ],
   "source": [
    "WINNER(X_perm_pos,O_perm_pos,tape4)"
   ]
  }
 ],
 "metadata": {
  "kernelspec": {
   "display_name": "Python 3",
   "language": "python",
   "name": "python3"
  },
  "language_info": {
   "codemirror_mode": {
    "name": "ipython",
    "version": 3
   },
   "file_extension": ".py",
   "mimetype": "text/x-python",
   "name": "python",
   "nbconvert_exporter": "python",
   "pygments_lexer": "ipython3",
   "version": "3.7.4"
  }
 },
 "nbformat": 4,
 "nbformat_minor": 5
}
